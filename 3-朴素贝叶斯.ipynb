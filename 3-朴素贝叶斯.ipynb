{
 "cells": [
  {
   "cell_type": "markdown",
   "metadata": {},
   "source": "## 朴素贝叶斯练习--20类新闻"
  },
  {
   "cell_type": "code",
   "metadata": {
    "ExecuteTime": {
     "end_time": "2025-06-20T10:54:50.904636Z",
     "start_time": "2025-06-20T10:54:49.529498Z"
    }
   },
   "source": [
    "# 导入必要的库\n",
    "from sklearn.datasets import fetch_20newsgroups\n",
    "from sklearn.feature_extraction.text import TfidfVectorizer\n",
    "from sklearn.naive_bayes import MultinomialNB\n",
    "from sklearn.metrics import accuracy_score, classification_report, roc_auc_score\n",
    "from sklearn.model_selection import train_test_split\n",
    "import time\n",
    "import numpy as np\n",
    "\n",
    "# 加载完整数据集,remove的作用是去除数据集中的头部、尾部和引号\n",
    "newsgroups = fetch_20newsgroups(data_home='../data', subset='all', shuffle=True, random_state=42)\n",
    "\n",
    "# 分割为训练集和测试集\n",
    "X_train, X_test, y_train, y_test = train_test_split(newsgroups.data, newsgroups.target, test_size=0.2, random_state=42)\n",
    "\n",
    "# 为了保持与原代码兼容，创建类似的结构\n",
    "newsgroups_train = type('obj', (object,), {\n",
    "    'data': X_train,\n",
    "    'target': y_train,\n",
    "    'target_names': newsgroups.target_names\n",
    "})\n",
    "\n",
    "newsgroups_test = type('obj', (object,), {\n",
    "    'data': X_test,\n",
    "    'target': y_test,\n",
    "    'target_names': newsgroups.target_names\n",
    "})\n",
    "\n",
    "# 查看数据集基本信息\n",
    "print(f\"训练集大小: {len(newsgroups_train.data)}\")\n",
    "print(f\"测试集大小: {len(newsgroups_test.data)}\")\n",
    "print(f\"类别数量: {len(newsgroups_train.target_names)}\")\n",
    "\n",
    "tfidf = TfidfVectorizer(stop_words='english')\n",
    "X_train_tfidf = tfidf.fit_transform(newsgroups_train.data)\n",
    "\n",
    "X_test_tfidf = tfidf.transform(newsgroups_test.data)\n",
    "\n",
    "# 创建并训练朴素贝叶斯分类器\n",
    "print(\"正在训练模型...\")\n",
    "clf = MultinomialNB(alpha=0.1)\n",
    "clf.fit(X_train_tfidf, newsgroups_train.target)\n",
    "# 预测\n",
    "y_pred = clf.predict(X_test_tfidf)\n",
    "\n",
    "# 计算准确率\n",
    "accuracy = accuracy_score(newsgroups_test.target, y_pred)\n",
    "print(f\"\\n测试集准确率: {accuracy:.4f}\")\n"
   ],
   "outputs": [
    {
     "name": "stdout",
     "output_type": "stream",
     "text": [
      "训练集大小: 15076\n",
      "测试集大小: 3770\n",
      "类别数量: 20\n",
      "正在训练模型...\n",
      "\n",
      "测试集准确率: 0.9098\n"
     ]
    }
   ],
   "execution_count": 3
  }
 ],
 "metadata": {
  "kernelspec": {
   "display_name": "Python 3",
   "language": "python",
   "name": "python3"
  },
  "language_info": {
   "codemirror_mode": {
    "name": "ipython",
    "version": 3
   },
   "file_extension": ".py",
   "mimetype": "text/x-python",
   "name": "python",
   "nbconvert_exporter": "python",
   "pygments_lexer": "ipython3",
   "version": "3.12.3"
  }
 },
 "nbformat": 4,
 "nbformat_minor": 2
}
