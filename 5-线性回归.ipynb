{
 "cells": [
  {
   "metadata": {},
   "cell_type": "markdown",
   "source": "# 线性回归--正规方程",
   "id": "ce4f3b128b877e68"
  },
  {
   "metadata": {
    "ExecuteTime": {
     "end_time": "2025-06-21T12:31:59.295785Z",
     "start_time": "2025-06-21T12:31:59.283741Z"
    }
   },
   "cell_type": "code",
   "source": [
    "import numpy as np\n",
    "import pandas as pd\n",
    "import matplotlib.pyplot as plt\n",
    "from sklearn.datasets import fetch_california_housing\n",
    "from sklearn.model_selection import train_test_split\n",
    "from sklearn.linear_model import LinearRegression\n",
    "from sklearn.metrics import mean_squared_error, r2_score\n",
    "from sklearn.preprocessing import StandardScaler\n",
    "\n",
    "# 加载加利福尼亚房价数据集\n",
    "housing = fetch_california_housing(data_home='../data')\n",
    "X = housing.data\n",
    "y = housing.target\n",
    "\n",
    "# 查看数据集信息\n",
    "print(\"特征名称:\", housing.feature_names)\n",
    "print(\"数据集形状:\", X.shape)\n",
    "print(\"目标变量形状:\", y.shape)\n",
    "\n",
    "# 划分训练集和测试集\n",
    "X_train, X_test, y_train, y_test = train_test_split(X, y, test_size=0.2, random_state=42)\n",
    "print(y_train[:10])\n",
    "\n",
    "# 对特征进行标准化\n",
    "scaler = StandardScaler()\n",
    "X_train_scaled = scaler.fit_transform(X_train)\n",
    "X_test_scaled = scaler.transform(X_test)\n",
    "\n",
    "# 创建线性回归模型\n",
    "lr_model = LinearRegression()\n",
    "\n",
    "# 训练模型\n",
    "lr_model.fit(X_train_scaled, y_train)\n",
    "\n",
    "# 预测\n",
    "y_pred = lr_model.predict(X_test_scaled)\n",
    "\n",
    "# 评估模型,均方误差\n",
    "mse = mean_squared_error(y_test, y_pred)\n",
    "\n",
    "print(f\"均方误差 (MSE): {mse:.4f}\")"
   ],
   "id": "d2d922f2caf38fbc",
   "outputs": [
    {
     "name": "stdout",
     "output_type": "stream",
     "text": [
      "特征名称: ['MedInc', 'HouseAge', 'AveRooms', 'AveBedrms', 'Population', 'AveOccup', 'Latitude', 'Longitude']\n",
      "数据集形状: (20640, 8)\n",
      "目标变量形状: (20640,)\n",
      "[1.03    3.821   1.726   0.934   0.965   2.648   1.573   5.00001 1.398\n",
      " 3.156  ]\n",
      "均方误差 (MSE): 0.5559\n"
     ]
    },
    {
     "name": "stderr",
     "output_type": "stream",
     "text": [
      "/Library/Frameworks/Python.framework/Versions/3.12/lib/python3.12/site-packages/sklearn/linear_model/_base.py:280: RuntimeWarning: divide by zero encountered in matmul\n",
      "  return X @ coef_ + self.intercept_\n",
      "/Library/Frameworks/Python.framework/Versions/3.12/lib/python3.12/site-packages/sklearn/linear_model/_base.py:280: RuntimeWarning: overflow encountered in matmul\n",
      "  return X @ coef_ + self.intercept_\n",
      "/Library/Frameworks/Python.framework/Versions/3.12/lib/python3.12/site-packages/sklearn/linear_model/_base.py:280: RuntimeWarning: invalid value encountered in matmul\n",
      "  return X @ coef_ + self.intercept_\n"
     ]
    }
   ],
   "execution_count": 3
  },
  {
   "metadata": {},
   "cell_type": "markdown",
   "source": "# 线性回归--梯度下降",
   "id": "adc399071981e7f3"
  },
  {
   "cell_type": "code",
   "id": "initial_id",
   "metadata": {
    "collapsed": true,
    "ExecuteTime": {
     "end_time": "2025-06-21T12:31:59.311357Z",
     "start_time": "2025-06-21T12:31:59.297902Z"
    }
   },
   "source": [
    "import joblib\n",
    "from sklearn.linear_model import SGDRegressor\n",
    "\n",
    "# 加载加利福尼亚房价数据集\n",
    "housing = fetch_california_housing(data_home='../data')\n",
    "X = housing.data\n",
    "y = housing.target\n",
    "\n",
    "# 划分训练集和测试集\n",
    "X_train, X_test, y_train, y_test = train_test_split(X, y, test_size=0.2, random_state=42)\n",
    "print(y_train[:10])\n",
    "\n",
    "# 对特征进行标准化\n",
    "scaler = StandardScaler()\n",
    "X_train_scaled = scaler.fit_transform(X_train)\n",
    "X_test_scaled = scaler.transform(X_test)\n",
    "\n",
    "# 创建SGD回归模型，tol是停止条件，当相邻两次迭代的目标函数值（如损失函数）差值 ≤ tol 时，算法停止\n",
    "#invscaling代表学习率随迭代次数衰减，eta0是初始学习率\n",
    "sgd_model = SGDRegressor(max_iter=1000, tol=1e-3, random_state=42, eta0=0.01)\n",
    "\n",
    "# 训练模型\n",
    "sgd_model.fit(X_train_scaled, y_train)\n",
    "\n",
    "# 预测\n",
    "y_pred = sgd_model.predict(X_test_scaled)\n",
    "\n",
    "# 评估模型,均方误差\n",
    "mse = mean_squared_error(y_test, y_pred)\n",
    "\n",
    "print(f\"均方误差 (MSE): {mse:.4f}\")"
   ],
   "outputs": [
    {
     "name": "stdout",
     "output_type": "stream",
     "text": [
      "[1.03    3.821   1.726   0.934   0.965   2.648   1.573   5.00001 1.398\n",
      " 3.156  ]\n",
      "均方误差 (MSE): 0.5506\n"
     ]
    },
    {
     "name": "stderr",
     "output_type": "stream",
     "text": [
      "/Library/Frameworks/Python.framework/Versions/3.12/lib/python3.12/site-packages/sklearn/utils/extmath.py:203: RuntimeWarning: divide by zero encountered in matmul\n",
      "  ret = a @ b\n",
      "/Library/Frameworks/Python.framework/Versions/3.12/lib/python3.12/site-packages/sklearn/utils/extmath.py:203: RuntimeWarning: overflow encountered in matmul\n",
      "  ret = a @ b\n",
      "/Library/Frameworks/Python.framework/Versions/3.12/lib/python3.12/site-packages/sklearn/utils/extmath.py:203: RuntimeWarning: invalid value encountered in matmul\n",
      "  ret = a @ b\n"
     ]
    }
   ],
   "execution_count": 4
  },
  {
   "metadata": {},
   "cell_type": "markdown",
   "source": "## lasso回归、岭回归",
   "id": "9628627abbe26ebe"
  },
  {
   "metadata": {
    "ExecuteTime": {
     "end_time": "2025-06-21T14:02:05.438281Z",
     "start_time": "2025-06-21T14:02:05.422543Z"
    }
   },
   "cell_type": "code",
   "source": [
    "from sklearn.linear_model import Lasso, Ridge\n",
    "from sklearn.metrics import mean_squared_error\n",
    "\n",
    "# Lasso回归\n",
    "lasso_model = Lasso(alpha=0.01, random_state=42, max_iter=10000)\n",
    "\n",
    "# 训练模型\n",
    "lasso_model.fit(X_train_scaled, y_train)\n",
    "\n",
    "# 预测\n",
    "lasso_pred = lasso_model.predict(X_test_scaled)\n",
    "\n",
    "# 评估模型\n",
    "lasso_mse = mean_squared_error(y_test, lasso_pred)\n",
    "\n",
    "\n",
    "print(f\"lasso均方误差 (MSE): {lasso_mse:.4f}\")\n",
    "\n",
    "\n",
    "# 岭回归\n",
    "\n",
    "# 创建岭回归模型\n",
    "ridge_model = Ridge(alpha=1.0, random_state=42)\n",
    "\n",
    "# 训练模型\n",
    "ridge_model.fit(X_train_scaled, y_train)\n",
    "\n",
    "\n",
    "# 预测\n",
    "ridge_pred = ridge_model.predict(X_test_scaled)\n",
    "\n",
    "# 评估模型\n",
    "ridge_mse = mean_squared_error(y_test, ridge_pred)\n",
    "\n",
    "\n",
    "print(f\"ridge均方误差 (MSE): {ridge_mse:.4f}\")\n"
   ],
   "id": "60f51a10018853d2",
   "outputs": [
    {
     "name": "stdout",
     "output_type": "stream",
     "text": [
      "lasso均方误差 (MSE): 0.5483\n",
      "ridge均方误差 (MSE): 0.5559\n"
     ]
    },
    {
     "name": "stderr",
     "output_type": "stream",
     "text": [
      "/Library/Frameworks/Python.framework/Versions/3.12/lib/python3.12/site-packages/sklearn/linear_model/_base.py:280: RuntimeWarning: divide by zero encountered in matmul\n",
      "  return X @ coef_ + self.intercept_\n",
      "/Library/Frameworks/Python.framework/Versions/3.12/lib/python3.12/site-packages/sklearn/linear_model/_base.py:280: RuntimeWarning: overflow encountered in matmul\n",
      "  return X @ coef_ + self.intercept_\n",
      "/Library/Frameworks/Python.framework/Versions/3.12/lib/python3.12/site-packages/sklearn/linear_model/_base.py:280: RuntimeWarning: invalid value encountered in matmul\n",
      "  return X @ coef_ + self.intercept_\n",
      "/Library/Frameworks/Python.framework/Versions/3.12/lib/python3.12/site-packages/sklearn/utils/extmath.py:203: RuntimeWarning: divide by zero encountered in matmul\n",
      "  ret = a @ b\n",
      "/Library/Frameworks/Python.framework/Versions/3.12/lib/python3.12/site-packages/sklearn/utils/extmath.py:203: RuntimeWarning: overflow encountered in matmul\n",
      "  ret = a @ b\n",
      "/Library/Frameworks/Python.framework/Versions/3.12/lib/python3.12/site-packages/sklearn/utils/extmath.py:203: RuntimeWarning: invalid value encountered in matmul\n",
      "  ret = a @ b\n",
      "/Library/Frameworks/Python.framework/Versions/3.12/lib/python3.12/site-packages/sklearn/linear_model/_base.py:280: RuntimeWarning: divide by zero encountered in matmul\n",
      "  return X @ coef_ + self.intercept_\n",
      "/Library/Frameworks/Python.framework/Versions/3.12/lib/python3.12/site-packages/sklearn/linear_model/_base.py:280: RuntimeWarning: overflow encountered in matmul\n",
      "  return X @ coef_ + self.intercept_\n",
      "/Library/Frameworks/Python.framework/Versions/3.12/lib/python3.12/site-packages/sklearn/linear_model/_base.py:280: RuntimeWarning: invalid value encountered in matmul\n",
      "  return X @ coef_ + self.intercept_\n"
     ]
    }
   ],
   "execution_count": 7
  }
 ],
 "metadata": {
  "kernelspec": {
   "display_name": "Python 3",
   "language": "python",
   "name": "python3"
  },
  "language_info": {
   "codemirror_mode": {
    "name": "ipython",
    "version": 2
   },
   "file_extension": ".py",
   "mimetype": "text/x-python",
   "name": "python",
   "nbconvert_exporter": "python",
   "pygments_lexer": "ipython2",
   "version": "2.7.6"
  }
 },
 "nbformat": 4,
 "nbformat_minor": 5
}
