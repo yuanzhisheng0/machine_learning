{
 "cells": [
  {
   "metadata": {},
   "cell_type": "markdown",
   "source": "# 决策树",
   "id": "7c772402212dd816"
  },
  {
   "cell_type": "code",
   "id": "initial_id",
   "metadata": {
    "collapsed": true,
    "ExecuteTime": {
     "end_time": "2025-06-20T11:12:17.260363Z",
     "start_time": "2025-06-20T11:12:17.245940Z"
    }
   },
   "source": [
    "from sklearn.metrics import accuracy_score\n",
    "from sklearn.tree import DecisionTreeClassifier\n",
    "from sklearn.model_selection import train_test_split\n",
    "import pandas as pd\n",
    "import numpy as np\n",
    "import matplotlib.pyplot as plt\n",
    "import seaborn as sns\n",
    "\n",
    "# 读取泰坦尼克号数据\n",
    "titanic_data = pd.read_csv('../data/titanic.txt')\n",
    "\n",
    "# 提取需要分析的列：pclass, age, sex 和 survived\n",
    "titanic_subset = titanic_data[['pclass', 'age', 'sex', 'survived']].copy()  # 使用.copy()创建真实副本而非视图\n",
    "\n",
    "# 修正警告：不使用链式赋值的inplace方法，直接赋值给DataFrame列\n",
    "titanic_subset['age'] = titanic_subset['age'].fillna(titanic_subset['age'].mean())\n",
    "\n",
    "# 准备数据\n",
    "# 将性别转换为数值\n",
    "titanic_subset['sex'] = titanic_subset['sex'].map({'male': 0, 'female': 1})\n",
    "\n",
    "# 删除age_group列，因为我们已经有了age列\n",
    "if 'age_group' in titanic_subset.columns:\n",
    "    titanic_subset = titanic_subset.drop('age_group', axis=1)\n",
    "\n",
    "# 删除含有缺失值的行\n",
    "titanic_clean = titanic_subset.dropna()\n",
    "\n",
    "# 分离特征和目标变量,将pclass转换为数值类型\n",
    "X = titanic_clean.copy()\n",
    "X['pclass'] = X['pclass'].map({'1st': 1, '2nd': 2, '3rd': 3})\n",
    "X = X[['pclass', 'age', 'sex']]\n",
    "y = titanic_clean['survived']\n",
    "\n",
    "# 划分训练集和测试集\n",
    "X_train, X_test, y_train, y_test = train_test_split(X, y, test_size=0.25, random_state=1)\n",
    "\n",
    "# 训练决策树模型\n",
    "dt_model = DecisionTreeClassifier(min_impurity_decrease=0.003)\n",
    "dt_model.fit(X_train, y_train)\n",
    "\n",
    "# 在测试集上评估模型\n",
    "y_pred = dt_model.predict(X_test)\n",
    "accuracy = accuracy_score(y_test, y_pred)\n",
    "print(f\"\\n决策树模型准确率：{accuracy:.4f}\")"
   ],
   "outputs": [
    {
     "name": "stdout",
     "output_type": "stream",
     "text": [
      "\n",
      "决策树模型准确率：0.8389\n"
     ]
    }
   ],
   "execution_count": 3
  },
  {
   "metadata": {},
   "cell_type": "markdown",
   "source": "# 随机森林",
   "id": "c9b617a9a99e3723"
  },
  {
   "metadata": {
    "ExecuteTime": {
     "end_time": "2025-06-20T11:12:17.478183Z",
     "start_time": "2025-06-20T11:12:17.270344Z"
    }
   },
   "cell_type": "code",
   "source": [
    "# 导入随机森林分类器\n",
    "from sklearn.ensemble import RandomForestClassifier\n",
    "from sklearn.metrics import classification_report, confusion_matrix\n",
    "\n",
    "# 创建随机森林模型\n",
    "rf_model = RandomForestClassifier(n_estimators=500, random_state=42,bootstrap=True,max_depth=3)\n",
    "\n",
    "# 训练模型\n",
    "rf_model.fit(X_train, y_train)\n",
    "\n",
    "# 在测试集上进行预测\n",
    "rf_pred = rf_model.predict(X_test)\n",
    "\n",
    "# 评估模型\n",
    "rf_accuracy = accuracy_score(y_test, rf_pred)\n",
    "print(f\"\\n随机森林模型准确率：{rf_accuracy:.4f}\")"
   ],
   "id": "92aa3f7d0a83288e",
   "outputs": [
    {
     "name": "stdout",
     "output_type": "stream",
     "text": [
      "\n",
      "随机森林模型准确率：0.8571\n"
     ]
    }
   ],
   "execution_count": 4
  },
  {
   "metadata": {},
   "cell_type": "markdown",
   "source": "# 网格搜索寻找最佳参数",
   "id": "41470ff6fed529f3"
  },
  {
   "metadata": {
    "ExecuteTime": {
     "end_time": "2025-06-20T11:12:30.096206Z",
     "start_time": "2025-06-20T11:12:17.478932Z"
    }
   },
   "cell_type": "code",
   "source": [
    "# 使用网格搜索为随机森林寻找最优超参数\n",
    "from sklearn.model_selection import GridSearchCV\n",
    "\n",
    "# 定义要搜索的超参数网格\n",
    "param_grid = {\n",
    "    'n_estimators': [ 300, 500, 800,1000,2000],\n",
    "    'max_depth': [2,3, 5, 7, 10]\n",
    "}\n",
    "\n",
    "# 创建随机森林模型\n",
    "rf = RandomForestClassifier(random_state=1)\n",
    "\n",
    "# 创建网格搜索对象,verbose=1表示打印详细信息\n",
    "grid_search = GridSearchCV(\n",
    "    estimator=rf,\n",
    "    param_grid=param_grid,\n",
    "    cv=7,\n",
    "    scoring='accuracy',\n",
    "    n_jobs=-1,\n",
    "    verbose=1\n",
    ")\n",
    "\n",
    "# 在训练数据上执行网格搜索\n",
    "grid_search.fit(X_train, y_train)\n",
    "\n",
    "# 输出最佳参数和最佳得分\n",
    "print(f\"\\n最佳超参数组合: {grid_search.best_params_}\")\n",
    "print(f\"最佳交叉验证得分: {grid_search.best_score_:.4f}\")\n",
    "\n",
    "# 使用最佳参数创建随机森林模型\n",
    "best_rf_model = grid_search.best_estimator_\n",
    "\n",
    "# 在测试集上评估最佳模型\n",
    "best_rf_pred = best_rf_model.predict(X_test)\n",
    "best_rf_accuracy = accuracy_score(y_test, best_rf_pred)\n",
    "print(f\"最佳随机森林模型在测试集上的准确率: {best_rf_accuracy:.4f}\")\n",
    "\n",
    "# 比较原始随机森林和调优后的随机森林\n",
    "print(f\"\\n优化前随机森林准确率: {rf_accuracy:.4f}\")\n",
    "print(f\"优化后随机森林准确率: {best_rf_accuracy:.4f}\")\n",
    "print(f\"准确率提升: {(best_rf_accuracy-rf_accuracy)*100:.2f}%\")\n",
    "\n",
    "# 可视化网格搜索结果\n",
    "results = pd.DataFrame(grid_search.cv_results_)\n",
    "pivot_table = results.pivot_table(\n",
    "    values='mean_test_score', \n",
    "    index='param_max_depth', \n",
    "    columns='param_n_estimators'\n",
    ")\n",
    "\n",
    "plt.figure(figsize=(10, 6))\n",
    "sns.heatmap(pivot_table, annot=True, cmap='viridis', fmt='.4f')\n",
    "plt.title('网格搜索结果 - 随机森林超参数调优')\n",
    "plt.xlabel('n_estimators')\n",
    "plt.ylabel('max_depth')\n",
    "plt.tight_layout()\n",
    "plt.show()\n"
   ],
   "id": "e0b0321159436cfb",
   "outputs": [
    {
     "name": "stdout",
     "output_type": "stream",
     "text": [
      "Fitting 7 folds for each of 25 candidates, totalling 175 fits\n",
      "\n",
      "最佳超参数组合: {'max_depth': 2, 'n_estimators': 300}\n",
      "最佳交叉验证得分: 0.8150\n",
      "最佳随机森林模型在测试集上的准确率: 0.8511\n",
      "\n",
      "优化前随机森林准确率: 0.8571\n",
      "优化后随机森林准确率: 0.8511\n",
      "准确率提升: -0.61%\n"
     ]
    },
    {
     "name": "stderr",
     "output_type": "stream",
     "text": [
      "/var/folders/1f/d7sgbp1155l8kkgswvhg8frw0000gn/T/ipykernel_45637/1048504907.py:56: UserWarning: Glyph 32593 (\\N{CJK UNIFIED IDEOGRAPH-7F51}) missing from font(s) Arial.\n",
      "  plt.tight_layout()\n",
      "/var/folders/1f/d7sgbp1155l8kkgswvhg8frw0000gn/T/ipykernel_45637/1048504907.py:56: UserWarning: Glyph 26684 (\\N{CJK UNIFIED IDEOGRAPH-683C}) missing from font(s) Arial.\n",
      "  plt.tight_layout()\n",
      "/var/folders/1f/d7sgbp1155l8kkgswvhg8frw0000gn/T/ipykernel_45637/1048504907.py:56: UserWarning: Glyph 25628 (\\N{CJK UNIFIED IDEOGRAPH-641C}) missing from font(s) Arial.\n",
      "  plt.tight_layout()\n",
      "/var/folders/1f/d7sgbp1155l8kkgswvhg8frw0000gn/T/ipykernel_45637/1048504907.py:56: UserWarning: Glyph 32034 (\\N{CJK UNIFIED IDEOGRAPH-7D22}) missing from font(s) Arial.\n",
      "  plt.tight_layout()\n",
      "/var/folders/1f/d7sgbp1155l8kkgswvhg8frw0000gn/T/ipykernel_45637/1048504907.py:56: UserWarning: Glyph 32467 (\\N{CJK UNIFIED IDEOGRAPH-7ED3}) missing from font(s) Arial.\n",
      "  plt.tight_layout()\n",
      "/var/folders/1f/d7sgbp1155l8kkgswvhg8frw0000gn/T/ipykernel_45637/1048504907.py:56: UserWarning: Glyph 26524 (\\N{CJK UNIFIED IDEOGRAPH-679C}) missing from font(s) Arial.\n",
      "  plt.tight_layout()\n",
      "/var/folders/1f/d7sgbp1155l8kkgswvhg8frw0000gn/T/ipykernel_45637/1048504907.py:56: UserWarning: Glyph 38543 (\\N{CJK UNIFIED IDEOGRAPH-968F}) missing from font(s) Arial.\n",
      "  plt.tight_layout()\n",
      "/var/folders/1f/d7sgbp1155l8kkgswvhg8frw0000gn/T/ipykernel_45637/1048504907.py:56: UserWarning: Glyph 26426 (\\N{CJK UNIFIED IDEOGRAPH-673A}) missing from font(s) Arial.\n",
      "  plt.tight_layout()\n",
      "/var/folders/1f/d7sgbp1155l8kkgswvhg8frw0000gn/T/ipykernel_45637/1048504907.py:56: UserWarning: Glyph 26862 (\\N{CJK UNIFIED IDEOGRAPH-68EE}) missing from font(s) Arial.\n",
      "  plt.tight_layout()\n",
      "/var/folders/1f/d7sgbp1155l8kkgswvhg8frw0000gn/T/ipykernel_45637/1048504907.py:56: UserWarning: Glyph 26519 (\\N{CJK UNIFIED IDEOGRAPH-6797}) missing from font(s) Arial.\n",
      "  plt.tight_layout()\n",
      "/var/folders/1f/d7sgbp1155l8kkgswvhg8frw0000gn/T/ipykernel_45637/1048504907.py:56: UserWarning: Glyph 36229 (\\N{CJK UNIFIED IDEOGRAPH-8D85}) missing from font(s) Arial.\n",
      "  plt.tight_layout()\n",
      "/var/folders/1f/d7sgbp1155l8kkgswvhg8frw0000gn/T/ipykernel_45637/1048504907.py:56: UserWarning: Glyph 21442 (\\N{CJK UNIFIED IDEOGRAPH-53C2}) missing from font(s) Arial.\n",
      "  plt.tight_layout()\n",
      "/var/folders/1f/d7sgbp1155l8kkgswvhg8frw0000gn/T/ipykernel_45637/1048504907.py:56: UserWarning: Glyph 25968 (\\N{CJK UNIFIED IDEOGRAPH-6570}) missing from font(s) Arial.\n",
      "  plt.tight_layout()\n",
      "/var/folders/1f/d7sgbp1155l8kkgswvhg8frw0000gn/T/ipykernel_45637/1048504907.py:56: UserWarning: Glyph 35843 (\\N{CJK UNIFIED IDEOGRAPH-8C03}) missing from font(s) Arial.\n",
      "  plt.tight_layout()\n",
      "/var/folders/1f/d7sgbp1155l8kkgswvhg8frw0000gn/T/ipykernel_45637/1048504907.py:56: UserWarning: Glyph 20248 (\\N{CJK UNIFIED IDEOGRAPH-4F18}) missing from font(s) Arial.\n",
      "  plt.tight_layout()\n",
      "/Library/Frameworks/Python.framework/Versions/3.12/lib/python3.12/site-packages/IPython/core/pylabtools.py:170: UserWarning: Glyph 32593 (\\N{CJK UNIFIED IDEOGRAPH-7F51}) missing from font(s) Arial.\n",
      "  fig.canvas.print_figure(bytes_io, **kw)\n",
      "/Library/Frameworks/Python.framework/Versions/3.12/lib/python3.12/site-packages/IPython/core/pylabtools.py:170: UserWarning: Glyph 26684 (\\N{CJK UNIFIED IDEOGRAPH-683C}) missing from font(s) Arial.\n",
      "  fig.canvas.print_figure(bytes_io, **kw)\n",
      "/Library/Frameworks/Python.framework/Versions/3.12/lib/python3.12/site-packages/IPython/core/pylabtools.py:170: UserWarning: Glyph 25628 (\\N{CJK UNIFIED IDEOGRAPH-641C}) missing from font(s) Arial.\n",
      "  fig.canvas.print_figure(bytes_io, **kw)\n",
      "/Library/Frameworks/Python.framework/Versions/3.12/lib/python3.12/site-packages/IPython/core/pylabtools.py:170: UserWarning: Glyph 32034 (\\N{CJK UNIFIED IDEOGRAPH-7D22}) missing from font(s) Arial.\n",
      "  fig.canvas.print_figure(bytes_io, **kw)\n",
      "/Library/Frameworks/Python.framework/Versions/3.12/lib/python3.12/site-packages/IPython/core/pylabtools.py:170: UserWarning: Glyph 32467 (\\N{CJK UNIFIED IDEOGRAPH-7ED3}) missing from font(s) Arial.\n",
      "  fig.canvas.print_figure(bytes_io, **kw)\n",
      "/Library/Frameworks/Python.framework/Versions/3.12/lib/python3.12/site-packages/IPython/core/pylabtools.py:170: UserWarning: Glyph 26524 (\\N{CJK UNIFIED IDEOGRAPH-679C}) missing from font(s) Arial.\n",
      "  fig.canvas.print_figure(bytes_io, **kw)\n",
      "/Library/Frameworks/Python.framework/Versions/3.12/lib/python3.12/site-packages/IPython/core/pylabtools.py:170: UserWarning: Glyph 38543 (\\N{CJK UNIFIED IDEOGRAPH-968F}) missing from font(s) Arial.\n",
      "  fig.canvas.print_figure(bytes_io, **kw)\n",
      "/Library/Frameworks/Python.framework/Versions/3.12/lib/python3.12/site-packages/IPython/core/pylabtools.py:170: UserWarning: Glyph 26426 (\\N{CJK UNIFIED IDEOGRAPH-673A}) missing from font(s) Arial.\n",
      "  fig.canvas.print_figure(bytes_io, **kw)\n",
      "/Library/Frameworks/Python.framework/Versions/3.12/lib/python3.12/site-packages/IPython/core/pylabtools.py:170: UserWarning: Glyph 26862 (\\N{CJK UNIFIED IDEOGRAPH-68EE}) missing from font(s) Arial.\n",
      "  fig.canvas.print_figure(bytes_io, **kw)\n",
      "/Library/Frameworks/Python.framework/Versions/3.12/lib/python3.12/site-packages/IPython/core/pylabtools.py:170: UserWarning: Glyph 26519 (\\N{CJK UNIFIED IDEOGRAPH-6797}) missing from font(s) Arial.\n",
      "  fig.canvas.print_figure(bytes_io, **kw)\n",
      "/Library/Frameworks/Python.framework/Versions/3.12/lib/python3.12/site-packages/IPython/core/pylabtools.py:170: UserWarning: Glyph 36229 (\\N{CJK UNIFIED IDEOGRAPH-8D85}) missing from font(s) Arial.\n",
      "  fig.canvas.print_figure(bytes_io, **kw)\n",
      "/Library/Frameworks/Python.framework/Versions/3.12/lib/python3.12/site-packages/IPython/core/pylabtools.py:170: UserWarning: Glyph 21442 (\\N{CJK UNIFIED IDEOGRAPH-53C2}) missing from font(s) Arial.\n",
      "  fig.canvas.print_figure(bytes_io, **kw)\n",
      "/Library/Frameworks/Python.framework/Versions/3.12/lib/python3.12/site-packages/IPython/core/pylabtools.py:170: UserWarning: Glyph 25968 (\\N{CJK UNIFIED IDEOGRAPH-6570}) missing from font(s) Arial.\n",
      "  fig.canvas.print_figure(bytes_io, **kw)\n",
      "/Library/Frameworks/Python.framework/Versions/3.12/lib/python3.12/site-packages/IPython/core/pylabtools.py:170: UserWarning: Glyph 35843 (\\N{CJK UNIFIED IDEOGRAPH-8C03}) missing from font(s) Arial.\n",
      "  fig.canvas.print_figure(bytes_io, **kw)\n",
      "/Library/Frameworks/Python.framework/Versions/3.12/lib/python3.12/site-packages/IPython/core/pylabtools.py:170: UserWarning: Glyph 20248 (\\N{CJK UNIFIED IDEOGRAPH-4F18}) missing from font(s) Arial.\n",
      "  fig.canvas.print_figure(bytes_io, **kw)\n"
     ]
    },
    {
     "data": {
      "text/plain": [
       "<Figure size 1000x600 with 2 Axes>"
      ],
      "image/png": "[encoded data removed]"
     },
     "metadata": {},
     "output_type": "display_data"
    }
   ],
   "execution_count": 5
  }
 ],
 "metadata": {
  "kernelspec": {
   "display_name": "Python 3",
   "language": "python",
   "name": "python3"
  },
  "language_info": {
   "codemirror_mode": {
    "name": "ipython",
    "version": 2
   },
   "file_extension": ".py",
   "mimetype": "text/x-python",
   "name": "python",
   "nbconvert_exporter": "python",
   "pygments_lexer": "ipython2",
   "version": "2.7.6"
  }
 },
 "nbformat": 4,
 "nbformat_minor": 5
}
